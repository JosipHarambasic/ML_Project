{
 "cells": [
  {
   "cell_type": "code",
   "execution_count": 19,
   "metadata": {
    "collapsed": true
   },
   "outputs": [],
   "source": [
    "import pandas as pd\n",
    "import numpy as np\n",
    "import matplotlib\n",
    "import matplotlib.pyplot as plt\n",
    "import seaborn as sns"
   ]
  },
  {
   "cell_type": "code",
   "execution_count": 12,
   "outputs": [
    {
     "name": "stdout",
     "output_type": "stream",
     "text": [
      "(3808, 225) (4120, 225) (4797, 225) (4960, 225) (4392, 225)\n"
     ]
    }
   ],
   "source": [
    "ds2014 = pd.read_csv(\"dataset/2014_Financial_Data.csv\")\n",
    "ds2015 = pd.read_csv(\"dataset/2015_Financial_Data.csv\")\n",
    "ds2016 = pd.read_csv(\"dataset/2016_Financial_Data.csv\")\n",
    "ds2017 = pd.read_csv(\"dataset/2017_Financial_Data.csv\")\n",
    "ds2018 = pd.read_csv(\"dataset/2018_Financial_Data.csv\")\n",
    "print(ds2014.shape, ds2015.shape, ds2016.shape, ds2017.shape, ds2018.shape)"
   ],
   "metadata": {
    "collapsed": false,
    "pycharm": {
     "name": "#%%\n"
    }
   }
  },
  {
   "cell_type": "markdown",
   "source": [
    "### Check if we have some NaN values"
   ],
   "metadata": {
    "collapsed": false,
    "pycharm": {
     "name": "#%% md\n"
    }
   }
  },
  {
   "cell_type": "code",
   "execution_count": 16,
   "outputs": [
    {
     "name": "stdout",
     "output_type": "stream",
     "text": [
      "(3808, 225) (4120, 225) (4797, 225) (4960, 225) (4392, 225)\n"
     ]
    }
   ],
   "source": [
    "ds2014.dropna(how='all', inplace=True)\n",
    "ds2015.dropna(how='all', inplace=True)\n",
    "ds2016.dropna(how='all', inplace=True)\n",
    "ds2017.dropna(how='all', inplace=True)\n",
    "ds2018.dropna(how='all', inplace=True)\n",
    "\n",
    "print(ds2014.shape, ds2015.shape, ds2016.shape, ds2017.shape, ds2018.shape)"
   ],
   "metadata": {
    "collapsed": false,
    "pycharm": {
     "name": "#%%\n"
    }
   }
  },
  {
   "cell_type": "code",
   "execution_count": 17,
   "outputs": [
    {
     "name": "stdout",
     "output_type": "stream",
     "text": [
      "<class 'pandas.core.frame.DataFrame'>\n",
      "Int64Index: 3808 entries, 0 to 3807\n",
      "Columns: 225 entries, Unnamed: 0 to Class\n",
      "dtypes: float64(222), int64(1), object(2)\n",
      "memory usage: 6.6+ MB\n",
      "None\n",
      "            Revenue  Revenue Growth  Cost of Revenue  Gross Profit  \\\n",
      "count  3.764000e+03     3572.000000     3.734000e+03  3.756000e+03   \n",
      "mean   5.879050e+09       12.954244     3.700973e+09  2.188214e+09   \n",
      "std    3.901741e+10      705.605473     3.040688e+10  1.159028e+10   \n",
      "min   -6.276160e+08       -1.773200    -5.455740e+08 -1.105000e+09   \n",
      "25%    5.788880e+07       -0.002350     3.135714e+06  3.092900e+07   \n",
      "50%    4.349010e+08        0.061850     1.414420e+08  1.908760e+08   \n",
      "75%    2.393625e+09        0.188875     1.199844e+09  8.922534e+08   \n",
      "max    1.824698e+12    42138.663900     1.537249e+12  4.621600e+11   \n",
      "\n",
      "       R&D Expenses  SG&A Expense  Operating Expenses  Operating Income  \\\n",
      "count  3.672000e+03  3.749000e+03        3.745000e+03      3.753000e+03   \n",
      "mean   9.401830e+07  9.307406e+08        1.438144e+09      6.748248e+08   \n",
      "std    6.408912e+08  4.820928e+09        7.305171e+09      3.786291e+09   \n",
      "min   -1.500000e+05  0.000000e+00       -1.088448e+09     -6.786000e+09   \n",
      "25%    0.000000e+00  1.548900e+07        3.106600e+07     -1.308000e+06   \n",
      "50%    0.000000e+00  7.381800e+07        1.386610e+08      4.104400e+07   \n",
      "75%    9.911000e+06  3.510000e+08        5.885100e+08      2.712980e+08   \n",
      "max    1.153700e+10  1.856830e+11        3.056050e+11      1.565540e+11   \n",
      "\n",
      "       Interest Expense  Earnings before Tax  ...  \\\n",
      "count      3.745000e+03         3.728000e+03  ...   \n",
      "mean       1.002018e+08         5.725866e+08  ...   \n",
      "std        6.991091e+08         2.793740e+09  ...   \n",
      "min       -2.250000e+08        -8.878000e+09  ...   \n",
      "25%        0.000000e+00        -3.732902e+06  ...   \n",
      "50%        2.563000e+06         2.842700e+07  ...   \n",
      "75%        4.300000e+07         2.193835e+08  ...   \n",
      "max        3.152300e+10         8.720500e+10  ...   \n",
      "\n",
      "       3Y Dividend per Share Growth (per Share)  Receivables growth  \\\n",
      "count                               3208.000000         3518.000000   \n",
      "mean                                   0.036206            4.445793   \n",
      "std                                    0.259765          161.135098   \n",
      "min                                   -1.000000           -1.000000   \n",
      "25%                                    0.000000           -0.045800   \n",
      "50%                                    0.000000            0.014250   \n",
      "75%                                    0.044000            0.205475   \n",
      "max                                    3.605800         9328.200000   \n",
      "\n",
      "       Inventory Growth  Asset Growth  Book Value per Share Growth  \\\n",
      "count       3518.000000   3518.000000                  3439.000000   \n",
      "mean           0.164692      2.279999                     0.813931   \n",
      "std            2.195115     92.428920                    25.630214   \n",
      "min           -1.000000     -0.979600                  -230.000000   \n",
      "25%            0.000000     -0.015400                    -0.084550   \n",
      "50%            0.000000      0.062200                     0.037100   \n",
      "75%            0.063850      0.217100                     0.141900   \n",
      "max           76.625000   5468.426400                  1360.125000   \n",
      "\n",
      "       Debt Growth  R&D Expense Growth  SG&A Expenses Growth  \\\n",
      "count  3506.000000         3561.000000           3565.000000   \n",
      "mean      1.361780            0.596529              0.382284   \n",
      "std      18.734301           25.894049              4.696975   \n",
      "min      -1.051000           -1.043700             -1.000000   \n",
      "25%      -0.048200            0.000000             -0.003900   \n",
      "50%       0.000000            0.000000              0.068800   \n",
      "75%       0.210300            0.004700              0.220500   \n",
      "max     729.576600         1542.611000            225.690000   \n",
      "\n",
      "       2015 PRICE VAR [%]        Class  \n",
      "count        3.808000e+03  3808.000000  \n",
      "mean         9.751560e+02     0.429097  \n",
      "std          4.098461e+04     0.495012  \n",
      "min         -1.003972e+02     0.000000  \n",
      "25%         -2.857143e+01     0.000000  \n",
      "50%         -5.281842e+00     0.000000  \n",
      "75%          1.331484e+01     1.000000  \n",
      "max          2.418601e+06     1.000000  \n",
      "\n",
      "[8 rows x 223 columns]\n"
     ]
    }
   ],
   "source": [
    "print(ds2014.info())\n",
    "print(ds2014.describe())"
   ],
   "metadata": {
    "collapsed": false,
    "pycharm": {
     "name": "#%%\n"
    }
   }
  },
  {
   "cell_type": "code",
   "execution_count": 23,
   "outputs": [
    {
     "name": "stderr",
     "output_type": "stream",
     "text": [
      "/Users/josip/opt/anaconda3/lib/python3.9/site-packages/seaborn/_decorators.py:36: FutureWarning: Pass the following variables as keyword args: x, y. From version 0.12, the only valid positional argument will be `data`, and passing other arguments without an explicit keyword will result in an error or misinterpretation.\n",
      "  warnings.warn(\n"
     ]
    },
    {
     "data": {
      "text/plain": "<Figure size 432x288 with 1 Axes>",
      "image/png": "[encoded data removed]"
     },
     "metadata": {
      "needs_background": "light"
     },
     "output_type": "display_data"
    },
    {
     "name": "stderr",
     "output_type": "stream",
     "text": [
      "/Users/josip/opt/anaconda3/lib/python3.9/site-packages/seaborn/_decorators.py:36: FutureWarning: Pass the following variables as keyword args: x, y. From version 0.12, the only valid positional argument will be `data`, and passing other arguments without an explicit keyword will result in an error or misinterpretation.\n",
      "  warnings.warn(\n"
     ]
    },
    {
     "data": {
      "text/plain": "<Figure size 432x288 with 1 Axes>",
      "image/png": "[encoded data removed]"
     },
     "metadata": {
      "needs_background": "light"
     },
     "output_type": "display_data"
    }
   ],
   "source": [
    "# Plot class distribution\n",
    "df_class = ds2014['Class'].value_counts()\n",
    "sns.barplot(np.arange(len(df_class)), df_class)\n",
    "plt.title('CLASS COUNT', fontsize=20)\n",
    "plt.show()\n",
    "\n",
    "# Plot sector distribution\n",
    "df_sector = ds2014['Sector'].value_counts()\n",
    "sns.barplot(np.arange(len(df_sector)), df_sector)\n",
    "plt.xticks(np.arange(len(df_sector)), df_sector.index.values.tolist(), rotation=90)\n",
    "plt.title('SECTORS COUNT', fontsize=20)\n",
    "plt.show()"
   ],
   "metadata": {
    "collapsed": false,
    "pycharm": {
     "name": "#%%\n"
    }
   }
  },
  {
   "cell_type": "code",
   "execution_count": null,
   "outputs": [],
   "source": [],
   "metadata": {
    "collapsed": false,
    "pycharm": {
     "name": "#%%\n"
    }
   }
  }
 ],
 "metadata": {
  "kernelspec": {
   "display_name": "Python 3",
   "language": "python",
   "name": "python3"
  },
  "language_info": {
   "codemirror_mode": {
    "name": "ipython",
    "version": 2
   },
   "file_extension": ".py",
   "mimetype": "text/x-python",
   "name": "python",
   "nbconvert_exporter": "python",
   "pygments_lexer": "ipython2",
   "version": "2.7.6"
  }
 },
 "nbformat": 4,
 "nbformat_minor": 0
}